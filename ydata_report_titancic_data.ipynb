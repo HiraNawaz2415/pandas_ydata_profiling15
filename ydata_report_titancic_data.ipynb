import pandas as pd
from ydata_profiling import ProfileReport

df = pd.read_csv("train.csv")
profile = ProfileReport(df, title="My EDA Report", explorative=True)
profile.to_file("eda_report.html")  # Generates an interactive HTML file
